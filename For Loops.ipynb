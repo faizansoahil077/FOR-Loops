{
 "cells": [
  {
   "cell_type": "code",
   "execution_count": 16,
   "metadata": {},
   "outputs": [
    {
     "name": "stdout",
     "output_type": "stream",
     "text": [
      "Alex that was good\n",
      "David that was good\n",
      "John that was good\n",
      "that was so good john.\n",
      "\n"
     ]
    }
   ],
   "source": [
    "magicians =['alex','david','john']\n",
    "for magician in magicians:\n",
    "    print(magician.title()+\" that was good\")\n",
    "print('that was so good '+magician +\".\\n\")"
   ]
  },
  {
   "cell_type": "code",
   "execution_count": 17,
   "metadata": {},
   "outputs": [
    {
     "name": "stdout",
     "output_type": "stream",
     "text": [
      "Alex that was good\n",
      "that was so good alex.\n",
      "\n",
      "David that was good\n",
      "that was so good david.\n",
      "\n",
      "John that was good\n",
      "that was so good john.\n",
      "\n"
     ]
    }
   ],
   "source": [
    "magicians =['alex','david','john']\n",
    "for magician in magicians:\n",
    "    print(magician.title()+\" that was good\")\n",
    "    print('that was so good '+magician +\".\\n\")"
   ]
  },
  {
   "cell_type": "code",
   "execution_count": 18,
   "metadata": {},
   "outputs": [
    {
     "name": "stdout",
     "output_type": "stream",
     "text": [
      "tikka i like this flavor the most\n",
      "fajito i like this flavor the most\n",
      "bbq i like this flavor the most\n",
      "thanks for the meal\n"
     ]
    }
   ],
   "source": [
    "#exercise\n",
    "pizza=['tikka','fajito','bbq']\n",
    "for pizzas in pizza:\n",
    "    print(pizzas+\" i like this flavor the most\")\n",
    "print(\"thanks for the meal\")    "
   ]
  },
  {
   "cell_type": "code",
   "execution_count": 20,
   "metadata": {},
   "outputs": [
    {
     "name": "stdout",
     "output_type": "stream",
     "text": [
      "dog\n",
      "it will make you save.\n",
      "\n",
      "lion\n",
      "it will make you save.\n",
      "\n",
      "wolf\n",
      "it will make you save.\n",
      "\n",
      "pets are the best\n"
     ]
    }
   ],
   "source": [
    "animal=['dog','lion','wolf']\n",
    "for animals in animal:\n",
    "    print(animals)\n",
    "    print(\"it will make you save\"+\".\\n\")\n",
    "print(\"pets are the best\")    "
   ]
  },
  {
   "cell_type": "code",
   "execution_count": 1,
   "metadata": {},
   "outputs": [
    {
     "name": "stdout",
     "output_type": "stream",
     "text": [
      "[1, 2, 3, 4]\n"
     ]
    }
   ],
   "source": [
    "#making list with rane\n",
    "number =list(range(1,5))\n",
    "print(number)"
   ]
  },
  {
   "cell_type": "code",
   "execution_count": 2,
   "metadata": {},
   "outputs": [
    {
     "name": "stdout",
     "output_type": "stream",
     "text": [
      "[2, 4, 6, 8, 10, 12]\n"
     ]
    }
   ],
   "source": [
    "#making even list with range\n",
    "even_number=list(range(2,13,2))\n",
    "print(even_number)"
   ]
  },
  {
   "cell_type": "code",
   "execution_count": 4,
   "metadata": {},
   "outputs": [
    {
     "name": "stdout",
     "output_type": "stream",
     "text": [
      "enter number5\n",
      "odd\n"
     ]
    }
   ],
   "source": [
    "#rough\n",
    "a =int(input('enter number'))\n",
    "if a % 2==0:\n",
    "    print('even')\n",
    "else:\n",
    "    print('odd')"
   ]
  },
  {
   "cell_type": "code",
   "execution_count": 12,
   "metadata": {},
   "outputs": [
    {
     "name": "stdout",
     "output_type": "stream",
     "text": [
      "[1, 4, 9, 16, 25, 36, 49, 64, 81, 100]\n"
     ]
    }
   ],
   "source": [
    "# 1st method\n",
    "squares =[]\n",
    "for value in range(1,11):\n",
    "    square=value**2\n",
    "    squares.append(square)\n",
    "    \n",
    "print(squares)    "
   ]
  },
  {
   "cell_type": "code",
   "execution_count": 13,
   "metadata": {},
   "outputs": [
    {
     "name": "stdout",
     "output_type": "stream",
     "text": [
      "[1, 4, 9, 16, 25, 36, 49, 64, 81, 100]\n"
     ]
    }
   ],
   "source": [
    "#2nd method\n",
    "square=[value**2 for value in range(1,11)]\n",
    "print(squares)"
   ]
  },
  {
   "cell_type": "code",
   "execution_count": 24,
   "metadata": {},
   "outputs": [
    {
     "name": "stdout",
     "output_type": "stream",
     "text": [
      "1\n",
      "2\n",
      "3\n",
      "4\n",
      "5\n",
      "6\n",
      "7\n",
      "8\n",
      "9\n",
      "10\n",
      "11\n",
      "12\n",
      "13\n",
      "14\n",
      "15\n",
      "16\n",
      "17\n",
      "18\n",
      "19\n",
      "20\n"
     ]
    }
   ],
   "source": [
    "#exercise\n",
    "for i in range(1,20+1):\n",
    "    print(i)\n"
   ]
  },
  {
   "cell_type": "code",
   "execution_count": 27,
   "metadata": {},
   "outputs": [
    {
     "name": "stdout",
     "output_type": "stream",
     "text": [
      "[2, 4, 6, 8, 10]\n"
     ]
    }
   ],
   "source": [
    "even_number=list(range(2,11,2))\n",
    "print(even_number)"
   ]
  },
  {
   "cell_type": "code",
   "execution_count": 29,
   "metadata": {},
   "outputs": [
    {
     "name": "stdout",
     "output_type": "stream",
     "text": [
      "[3, 6, 9, 12, 15, 18, 21, 24, 27, 30]\n"
     ]
    }
   ],
   "source": [
    " multiple=list(range(3,31,3))\n",
    "print(multiple)"
   ]
  },
  {
   "cell_type": "code",
   "execution_count": 36,
   "metadata": {},
   "outputs": [
    {
     "name": "stdout",
     "output_type": "stream",
     "text": [
      "[1, 8, 27, 64, 125, 216, 343, 512, 729, 1000, 1331, 1728, 2197, 2744, 3375, 4096, 4913, 5832, 6859, 8000, 9261, 10648, 12167, 13824, 15625, 17576, 19683, 21952, 24389, 27000]\n"
     ]
    }
   ],
   "source": [
    "cubes=[]\n",
    "for value in range(1,30+1):\n",
    "    cube=value**3\n",
    "    cubes.append(cube)\n",
    "print(cubes)    "
   ]
  },
  {
   "cell_type": "code",
   "execution_count": 42,
   "metadata": {},
   "outputs": [
    {
     "name": "stdout",
     "output_type": "stream",
     "text": [
      "[1, 8, 27, 64, 125, 216, 343, 512, 729, 1000]\n"
     ]
    }
   ],
   "source": [
    "#2nd method\n",
    "cubes=[value**3 for value in range(1,11)]\n",
    "print(cubes)"
   ]
  },
  {
   "cell_type": "code",
   "execution_count": 4,
   "metadata": {},
   "outputs": [
    {
     "name": "stdout",
     "output_type": "stream",
     "text": [
      "['dubai', 'ibiza', 'spain', 'europe', 'italy']\n"
     ]
    }
   ],
   "source": [
    "#slice\n",
    "places =['dubai','ibiza','spain','europe','italy']\n",
    "print(places)"
   ]
  },
  {
   "cell_type": "code",
   "execution_count": 6,
   "metadata": {},
   "outputs": [
    {
     "name": "stdout",
     "output_type": "stream",
     "text": [
      "['dubai', 'ibiza', 'spain']\n"
     ]
    }
   ],
   "source": [
    "print(places[0:3])\n"
   ]
  },
  {
   "cell_type": "code",
   "execution_count": 7,
   "metadata": {},
   "outputs": [
    {
     "name": "stdout",
     "output_type": "stream",
     "text": [
      "['ibiza', 'spain', 'europe']\n"
     ]
    }
   ],
   "source": [
    "print(places[1:4])"
   ]
  },
  {
   "cell_type": "code",
   "execution_count": 8,
   "metadata": {},
   "outputs": [
    {
     "name": "stdout",
     "output_type": "stream",
     "text": [
      "['spain', 'europe', 'italy']\n"
     ]
    }
   ],
   "source": [
    "print(places[2:6])"
   ]
  },
  {
   "cell_type": "code",
   "execution_count": 15,
   "metadata": {},
   "outputs": [
    {
     "name": "stdout",
     "output_type": "stream",
     "text": [
      "this is original list\n",
      "['bbq', 'tikka', 'cheese', 'super max']\n",
      "\n",
      "this is copy\n",
      "['bbq', 'tikka', 'cheese', 'fajito']\n"
     ]
    }
   ],
   "source": [
    "pizzas=['bbq','tikka','cheese']\n",
    "friends_pizza= pizzas[:]\n",
    "\n",
    "pizzas.append(\"super max\")\n",
    "friends_pizza.append(\"fajito\")\n",
    "\n",
    "print(\"this is original list\")\n",
    "print(pizzas)\n",
    "\n",
    "print(\"\\nthis is copy\")\n",
    "print(friends_pizza)"
   ]
  },
  {
   "cell_type": "code",
   "execution_count": 16,
   "metadata": {},
   "outputs": [
    {
     "name": "stdout",
     "output_type": "stream",
     "text": [
      "heres the list of my favorite food\n",
      "biryani\n",
      "korma\n",
      "pasta\n"
     ]
    }
   ],
   "source": [
    "foods =['biryani','korma','pasta','fish']\n",
    "\n",
    "print(\"heres the list of my favorite food\")\n",
    "for food in foods[0:3]:\n",
    "    print(food)"
   ]
  },
  {
   "cell_type": "code",
   "execution_count": 18,
   "metadata": {},
   "outputs": [
    {
     "name": "stdout",
     "output_type": "stream",
     "text": [
      "biryani\n",
      "pasta\n",
      "spaghatti\n",
      "beaf_pilao\n",
      "meat_pilao\n"
     ]
    }
   ],
   "source": [
    "New_menu=('biryani' , 'pasta', 'spaghatti', 'beaf_pilao', 'meat_pilao' )\n",
    "for menu in New_menu:\n",
    "    print(menu)"
   ]
  },
  {
   "cell_type": "code",
   "execution_count": 21,
   "metadata": {},
   "outputs": [
    {
     "name": "stdout",
     "output_type": "stream",
     "text": [
      "modified menu\n",
      "biryani\n",
      "pasta\n",
      "spaghatti\n",
      "beaf_pilao\n",
      "meat_pilao\n"
     ]
    }
   ],
   "source": [
    "New_menu2=('biryani' , 'pasta', 'spaghatti', 'beaf_pilao',)\n",
    "print(\"modified menu\")\n",
    "for menu2 in New_menu:\n",
    "    print(menu2)\n"
   ]
  },
  {
   "cell_type": "code",
   "execution_count": null,
   "metadata": {},
   "outputs": [],
   "source": []
  }
 ],
 "metadata": {
  "kernelspec": {
   "display_name": "Python 3",
   "language": "python",
   "name": "python3"
  },
  "language_info": {
   "codemirror_mode": {
    "name": "ipython",
    "version": 3
   },
   "file_extension": ".py",
   "mimetype": "text/x-python",
   "name": "python",
   "nbconvert_exporter": "python",
   "pygments_lexer": "ipython3",
   "version": "3.7.3"
  }
 },
 "nbformat": 4,
 "nbformat_minor": 2
}
